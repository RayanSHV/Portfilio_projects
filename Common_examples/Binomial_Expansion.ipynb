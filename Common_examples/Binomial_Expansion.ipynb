{
  "nbformat": 4,
  "nbformat_minor": 0,
  "metadata": {
    "colab": {
      "provenance": []
    },
    "kernelspec": {
      "name": "python3",
      "display_name": "Python 3"
    },
    "language_info": {
      "name": "python"
    }
  },
  "cells": [
    {
      "cell_type": "markdown",
      "source": [
        "The purpose of this kata is to write a program that can do some algebra.\n",
        "\n",
        "Write a function expand that takes in an expression with a single, one character variable, and expands it. The expression is in the form (ax+b)^n where a and b are integers which may be positive or negative, x is any single character variable, and n is a natural number. If a = 1, no coefficient will be placed in front of the variable. If a = -1, a \"-\" will be placed in front of the variable.\n",
        "\n",
        "The expanded form should be returned as a string in the form ax^b+cx^d+ex^f... where a, c, and e are the coefficients of the term, x is the original one character variable that was passed in the original expression and b, d, and f, are the powers that x is being raised to in each term and are in decreasing order.\n",
        "\n",
        "If the coefficient of a term is zero, the term should not be included. If the coefficient of a term is one, the coefficient should not be included. If the coefficient of a term is -1, only the \"-\" should be included. If the power of the term is 0, only the coefficient should be included. If the power of the term is 1, the caret and power should be excluded."
      ],
      "metadata": {
        "id": "2wSX8O4lixeY"
      }
    },
    {
      "cell_type": "code",
      "execution_count": null,
      "metadata": {
        "id": "oix4nz5CiwBy"
      },
      "outputs": [],
      "source": [
        "def expand(expr):\n",
        "       \n",
        "    powers = [i for i in range(int(expr[-1]), 0, -1)]\n",
        "    powers += [0]\n",
        "    \n",
        "    if len(powers) > 1:\n",
        "        inside = expr[expr.index('(')+1:expr.index(')')]\n",
        "        var = [i for i in expr if i.isalpha()]\n",
        "        var = var[0]\n",
        "        var_index = inside.rfind(var)\n",
        "        \n",
        "        #is + or -\n",
        "        condidion_plus = inside.rfind('+')\n",
        "        condidion_minus = inside.rfind('-')\n",
        "        \n",
        "        # constant check&pull\n",
        "        if condidion_plus != -1:\n",
        "            const = int(inside[condidion_plus+1:])\n",
        "        else: const = -int(inside[condidion_minus+1:])\n",
        "        \n",
        "        # coefficient of varaible check&pull\n",
        "        if inside.startswith('-'):\n",
        "            if inside[1:var_index].isdigit():\n",
        "                coeff_var = -int(inside[1:var_index])\n",
        "            else: coeff_var = -1\n",
        "        else:\n",
        "            if inside[:var_index].isdigit():\n",
        "                coeff_var = int(inside[:var_index])\n",
        "            else: coeff_var = 1\n",
        "        \n",
        "        powerup_coeff = [(coeff_var ** i) for i in powers]\n",
        "        powerup_const = [(const ** i) for i in powers[::-1]]\n",
        "    \n",
        "        pascal_triangle = [1]\n",
        "        for i in range(len(powers)-1):\n",
        "            pascal_triangle = [x + y for x, y in zip([0]+pascal_triangle, pascal_triangle+[0])]\n",
        "\n",
        "        powerup_int = [x * y * z for x, y, z in zip(powerup_coeff, powerup_const, pascal_triangle)]\n",
        "        powerup = [str(i) for i in powerup_int]\n",
        "        \n",
        "        for i in range(len(powerup)):\n",
        "            if powerup[i] == '1':\n",
        "                powerup[i] = ''\n",
        "            elif powerup[i] == '-1':\n",
        "                powerup[i] = '-'\n",
        "        \n",
        "        if powers[0] == 1:\n",
        "            output = f'{powerup[0]}{var}'\n",
        "        else: output = f'{powerup[0]}{var}^{powers[0]}'\n",
        "        \n",
        "        \n",
        "        for i in range(1,len(powerup)):\n",
        "            if powerup_int[i] > 0:\n",
        "                if powers[i] == 1 :\n",
        "                    output += f'+{powerup[i]}{var}'\n",
        "                elif powers[i] == 0:\n",
        "                    output += f'+{str(powerup_int[i])}'\n",
        "                else: output += f'+{powerup[i]}{var}^{powers[i]}'\n",
        "            elif powerup_int[i] < 0:\n",
        "                if powers[i] == 1:\n",
        "                    output += f'{powerup[i]}{var}'\n",
        "                elif powers[i] == 0:\n",
        "                    output += f'{str(powerup_int[i])}'\n",
        "                else: output += f'{powerup[i]}{var}^{powers[i]}'\n",
        "            \n",
        "        return output  \n",
        "    else: \n",
        "        return '1'"
      ]
    }
  ]
}