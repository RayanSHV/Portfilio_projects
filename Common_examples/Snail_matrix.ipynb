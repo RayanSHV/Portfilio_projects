{
  "nbformat": 4,
  "nbformat_minor": 0,
  "metadata": {
    "colab": {
      "provenance": [],
      "collapsed_sections": []
    },
    "kernelspec": {
      "name": "python3",
      "display_name": "Python 3"
    },
    "language_info": {
      "name": "python"
    }
  },
  "cells": [
    {
      "cell_type": "markdown",
      "source": [
        "Заполнение матрицы змейкой"
      ],
      "metadata": {
        "id": "vckh3sQGYtwo"
      }
    },
    {
      "cell_type": "code",
      "source": [
        "n, m = [int(i) for i in input().split()]\n",
        "matrix = [[str(0).ljust(3)]*m for _ in range(n)]\n",
        "numbers, k = list(range(1, n*m+1)), 0\n",
        "\n",
        "i, j = 0, 0\n",
        "for circle in range(n): \n",
        "    while j != m-1-circle and k < len(numbers):\n",
        "        matrix[i][j] = str(numbers[k]).ljust(4)\n",
        "        j += 1\n",
        "        k += 1\n",
        "\n",
        "    while i != n-1-circle and k < len(numbers):\n",
        "        matrix[i][j] = str(numbers[k]).ljust(4)\n",
        "        i += 1\n",
        "        k += 1\n",
        "\n",
        "    while j != 0+circle and k < len(numbers):\n",
        "        matrix[i][j] = str(numbers[k]).ljust(4)\n",
        "        j -= 1\n",
        "        k += 1\n",
        "\n",
        "    while i != 1+circle and k < len(numbers):\n",
        "        matrix[i][j] = str(numbers[k]).ljust(4)\n",
        "        i -= 1\n",
        "        k += 1\n",
        "        \n",
        "for row in matrix:\n",
        "    print(*row, sep =' ')"
      ],
      "metadata": {
        "colab": {
          "base_uri": "https://localhost:8080/"
        },
        "id": "XtwlmASrYt3R",
        "outputId": "6e4d9671-c7e5-4dab-b555-25eee7492518"
      },
      "execution_count": null,
      "outputs": [
        {
          "output_type": "stream",
          "name": "stdout",
          "text": [
            "5 9\n",
            "1    2    3    4    5    6    7    8    9   \n",
            "24   25   26   27   28   29   30   31   10  \n",
            "23   40   41   42   43   44   45   32   11  \n",
            "22   39   38   37   36   35   34   33   12  \n",
            "21   20   19   18   17   16   15   14   13  \n"
          ]
        }
      ]
    }
  ]
}