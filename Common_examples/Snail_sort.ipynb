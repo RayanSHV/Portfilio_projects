{
  "nbformat": 4,
  "nbformat_minor": 0,
  "metadata": {
    "colab": {
      "provenance": []
    },
    "kernelspec": {
      "name": "python3",
      "display_name": "Python 3"
    },
    "language_info": {
      "name": "python"
    }
  },
  "cells": [
    {
      "cell_type": "markdown",
      "source": [
        "Snail Sort\n",
        "Given an n x n array, return the array elements arranged from outermost elements to the middle element, traveling clockwise.\n",
        "\n",
        "array = [[1,2,3],\n",
        "         [4,5,6],\n",
        "         [7,8,9]]\n",
        "snail(array) #=> [1,2,3,6,9,8,7,4,5]\n",
        "For better understanding, please follow the numbers of the next array consecutively:\n",
        "\n",
        "array = [[1,2,3],\n",
        "         [8,9,4],\n",
        "         [7,6,5]]\n",
        "snail(array) #=> [1,2,3,4,5,6,7,8,9]\n",
        "This image will illustrate things more clearly:\n",
        "\n",
        "\n",
        "NOTE: The idea is not sort the elements from the lowest value to the highest; the idea is to traverse the 2-d array in a clockwise snailshell pattern.\n",
        "\n",
        "NOTE 2: The 0x0 (empty matrix) is represented as en empty array inside an array [[]]"
      ],
      "metadata": {
        "id": "Xy1HCZYtkSDy"
      }
    },
    {
      "cell_type": "code",
      "execution_count": null,
      "metadata": {
        "id": "6Wta1xmzkRT3"
      },
      "outputs": [],
      "source": [
        "def snail(array):\n",
        "    res = []\n",
        "    \n",
        "    if len(array) <= 1:\n",
        "        res = array[0]\n",
        "    while len(array) > 1:\n",
        "        res.extend(array[0])\n",
        "        array.pop(0)\n",
        "        #print(array)\n",
        "        ## Добавлена первая строчка в результирующий массив и она же удалена из основного массива\n",
        "\n",
        "        for item in array:\n",
        "            res.append(item[-1])\n",
        "            item = item.pop()\n",
        "        ## Добавлены последние элементы из array в res. И удалены из array.\n",
        "\n",
        "        res.extend(array[-1][::-1])\n",
        "        array.pop(-1)\n",
        "        #print(array)\n",
        "        ## Добавлена первая строчка из array в res в обратном порядке и она же удалена из array.\n",
        "        \n",
        "        for item in reversed(array):\n",
        "            res.append(item[0])\n",
        "            item = item.pop(0)\n",
        "        ## Добавлены первые элементы из array в res в обратном порядке. И удалены из array. \n",
        "        \n",
        "        if len(array) == 1:\n",
        "                res += array[0]\n",
        "    print(res)\n",
        "    return res"
      ]
    }
  ]
}