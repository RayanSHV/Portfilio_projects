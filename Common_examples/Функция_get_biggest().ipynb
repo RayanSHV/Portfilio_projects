{
  "nbformat": 4,
  "nbformat_minor": 0,
  "metadata": {
    "colab": {
      "provenance": []
    },
    "kernelspec": {
      "name": "python3",
      "display_name": "Python 3"
    },
    "language_info": {
      "name": "python"
    }
  },
  "cells": [
    {
      "cell_type": "code",
      "source": [
        "def get_biggest(numbers):\n",
        "    if numbers:\n",
        "        my_list = map(str, list(sorted(numbers, key=lambda x: str(x)*len(max(map(str, numbers), key=len)), reverse=True)))\n",
        "        print(list(map(lambda x: str(x)*len(max(map(str, numbers))), numbers)))\n",
        "        \n",
        "        return int(''.join(my_list))\n",
        "    return -1\n",
        "\n",
        "\n",
        "print(get_biggest([7, 71, 72]) == 77271)\n",
        "print(get_biggest([0, 0, 0, 0, 0, 0]) == 0)\n",
        "print(get_biggest([]) == -1)\n",
        "print(get_biggest([72, 7274]) == 727472)\n",
        "print(get_biggest([62, 626]) == 62662)\n",
        "print(get_biggest([953, 9534]) == 9539534)\n",
        "print(get_biggest([262, 26]) == 26262)"
      ],
      "metadata": {
        "colab": {
          "base_uri": "https://localhost:8080/"
        },
        "id": "aJ_0HttGOrMx",
        "outputId": "3dd8f2d8-93ed-4cc4-ab48-1c835c30dc35"
      },
      "execution_count": null,
      "outputs": [
        {
          "output_type": "stream",
          "name": "stdout",
          "text": [
            "['77', '7171', '7272']\n",
            "True\n",
            "['0', '0', '0', '0', '0', '0']\n",
            "True\n",
            "True\n",
            "['72727272', '7274727472747274']\n",
            "True\n",
            "['626262', '626626626']\n",
            "True\n",
            "['953953953953', '9534953495349534']\n",
            "True\n",
            "['262262262', '262626']\n",
            "True\n"
          ]
        }
      ]
    }
  ]
}