{
  "nbformat": 4,
  "nbformat_minor": 0,
  "metadata": {
    "colab": {
      "provenance": []
    },
    "kernelspec": {
      "name": "python3",
      "display_name": "Python 3"
    },
    "language_info": {
      "name": "python"
    }
  },
  "cells": [
    {
      "cell_type": "code",
      "execution_count": 1,
      "metadata": {
        "id": "ZZsEuPmUQmtR",
        "colab": {
          "base_uri": "https://localhost:8080/"
        },
        "outputId": "d8dbc671-bc69-499d-8171-0705d37cc5a2"
      },
      "outputs": [
        {
          "output_type": "stream",
          "name": "stdout",
          "text": [
            "Лхкрпч, фьш мпъэпь, ьпщхш пцэ чк ымпьп!\n",
            "Kf sv, fi efk kf sv, kyrk zj kyv hlvjkzfe!\n",
            "Скупой теряет все, желая все достать\n",
            "The grass is always greener on the other side of the fence.\n",
            "Hawnj pk swhg xabkna ukq nqj. 0\n",
            "Ibxok ql txih ybclob vlr ork. 1\n",
            "Jcypl rm uyji zcdmpc wms psl. 2\n",
            "Kdzqm sn vzkj adenqd xnt qtm. 3\n",
            "Learn to walk before you run. 4\n",
            "Mfbso up xbml cfgpsf zpv svo. 5\n",
            "Ngctp vq ycnm dghqtg aqw twp. 6\n",
            "Ohduq wr zdon ehiruh brx uxq. 7\n",
            "Pievr xs aepo fijsvi csy vyr. 8\n",
            "Qjfws yt bfqp gjktwj dtz wzs. 9\n",
            "Rkgxt zu cgrq hkluxk eua xat. 10\n",
            "Slhyu av dhsr ilmvyl fvb ybu. 11\n",
            "Tmizv bw eits jmnwzm gwc zcv. 12\n",
            "Unjaw cx fjut knoxan hxd adw. 13\n",
            "Vokbx dy gkvu lopybo iye bex. 14\n",
            "Wplcy ez hlwv mpqzcp jzf cfy. 15\n",
            "Xqmdz fa imxw nqradq kag dgz. 16\n",
            "Yrnea gb jnyx orsber lbh eha. 17\n",
            "Zsofb hc kozy pstcfs mci fib. 18\n",
            "Atpgc id lpaz qtudgt ndj gjc. 19\n",
            "Buqhd je mqba ruvehu oek hkd. 20\n",
            "Cvrie kf nrcb svwfiv pfl ile. 21\n",
            "Dwsjf lg osdc twxgjw qgm jmf. 22\n",
            "Extkg mh pted uxyhkx rhn kng. 23\n",
            "Fyulh ni qufe vyzily sio loh. 24\n",
            "Gzvmi oj rvgf wzajmz tjp mpi. 25\n"
          ]
        }
      ],
      "source": [
        "import string\n",
        "\n",
        "def rot(message, n):\n",
        "    eng_low = string.ascii_lowercase\n",
        "    eng_upp = string.ascii_uppercase\n",
        "    rus_low = ''.join([chr(i) for i in range (ord ('а'), ord ('я') + 1)])\n",
        "    rus_upp = rus_low.upper()\n",
        "    \n",
        "\n",
        "    mes = ''\n",
        "\n",
        "    for letter in message:\n",
        "      low = (eng_low, rus_low)[letter in rus_low]\n",
        "      upp = (eng_upp, rus_upp)[letter in rus_upp]\n",
        "\n",
        "      if letter.isalpha() and letter.islower():\n",
        "            found_low = low.find(letter)\n",
        "            found_low_shifted = found_low + n\n",
        "            if letter in rus_low and found_low_shifted > 31 or letter in eng_low and found_low_shifted > 25:\n",
        "                found_low_shifted -= len(low)\n",
        "            else: \n",
        "                found_low_shifted\n",
        "            mes += low[found_low_shifted]\n",
        "            \n",
        "      elif letter.isalpha() and letter.isupper():\n",
        "            found_upp = upp.find(letter)\n",
        "            found_upp_shifted = found_upp + n\n",
        "            if letter in rus_upp and found_upp_shifted > 31 or letter in eng_upp and found_upp_shifted > 25:\n",
        "                found_upp_shifted -= len(upp)\n",
        "            else: \n",
        "                found_upp_shifted\n",
        "            mes += upp[found_upp_shifted]\n",
        "            \n",
        "      else: mes += letter\n",
        "            \n",
        "    return mes\n",
        "\n",
        "print(rot('Блажен, кто верует, тепло ему на свете!', 10))\n",
        "print(rot('To be, or not to be, that is the question!', 17))\n",
        "print(rot('Шсъцхр щмчжмщ йшм, нмтзж йшм лхшщзщг', (32-7)))\n",
        "print(rot('Sgd fqzrr hr zkvzxr fqddmdq nm sgd nsgdq rhcd ne sgd edmbd.', 26-25))\n",
        "\n",
        "for n in range(26):\n",
        "  print(rot('Hawnj pk swhg xabkna ukq nqj.', n), n)\n"
      ]
    },
    {
      "cell_type": "code",
      "source": [
        "item = '1ghjdfbs!'\n",
        "sum([char for ])"
      ],
      "metadata": {
        "colab": {
          "base_uri": "https://localhost:8080/",
          "height": 182
        },
        "id": "ChTTdxEqaUyc",
        "outputId": "978f4785-9695-4963-d644-afdfd0c86cd3"
      },
      "execution_count": null,
      "outputs": [
        {
          "output_type": "error",
          "ename": "TypeError",
          "evalue": "ignored",
          "traceback": [
            "\u001b[0;31m---------------------------------------------------------------------------\u001b[0m",
            "\u001b[0;31mTypeError\u001b[0m                                 Traceback (most recent call last)",
            "\u001b[0;32m<ipython-input-37-3d31355442ae>\u001b[0m in \u001b[0;36m<module>\u001b[0;34m\u001b[0m\n\u001b[1;32m      1\u001b[0m \u001b[0mitem\u001b[0m \u001b[0;34m=\u001b[0m \u001b[0;34m'1ghjdfbs!'\u001b[0m\u001b[0;34m\u001b[0m\u001b[0;34m\u001b[0m\u001b[0m\n\u001b[0;32m----> 2\u001b[0;31m \u001b[0mitem\u001b[0m\u001b[0;34m.\u001b[0m\u001b[0mcount\u001b[0m\u001b[0;34m(\u001b[0m\u001b[0;32mlambda\u001b[0m \u001b[0mx\u001b[0m\u001b[0;34m:\u001b[0m \u001b[0mx\u001b[0m\u001b[0;34m.\u001b[0m\u001b[0misalpha\u001b[0m\u001b[0;34m(\u001b[0m\u001b[0;34m)\u001b[0m\u001b[0;34m)\u001b[0m\u001b[0;34m\u001b[0m\u001b[0;34m\u001b[0m\u001b[0m\n\u001b[0m",
            "\u001b[0;31mTypeError\u001b[0m: must be str, not function"
          ]
        }
      ]
    }
  ]
}