{
  "nbformat": 4,
  "nbformat_minor": 0,
  "metadata": {
    "colab": {
      "provenance": []
    },
    "kernelspec": {
      "name": "python3",
      "display_name": "Python 3"
    },
    "language_info": {
      "name": "python"
    }
  },
  "cells": [
    {
      "cell_type": "markdown",
      "source": [
        "Given two different positions on a chess board, find the least number of moves it would take a knight to get from one to the other. The positions will be passed as two arguments in algebraic notation. For example, knight(\"a3\", \"b5\") should return 1.\n",
        "\n",
        "The knight is not allowed to move off the board. The board is 8x8.\n",
        "\n",
        "For information on knight moves, see https://en.wikipedia.org/wiki/Knight_%28chess%29\n",
        "\n",
        "For information on algebraic notation, see https://en.wikipedia.org/wiki/Algebraic_notation_%28chess%29\n",
        "\n",
        "(Warning: many of the tests were generated randomly. If any do not work, the test cases will return the input, output, and expected output; please post them.)"
      ],
      "metadata": {
        "id": "uYlVhjEOiIFA"
      }
    },
    {
      "cell_type": "code",
      "execution_count": null,
      "metadata": {
        "id": "Fap7AYMDiGcI"
      },
      "outputs": [],
      "source": [
        "def knight(p1, p2):\n",
        "    \n",
        "     # chess board initialization\n",
        "    n = 8\n",
        "    board =  [[chr(i)+str(j) for i in range(ord('a'),ord('h'))] for j in range(1, n+1)]\n",
        "    \n",
        "     # knight movement rule\n",
        "    movements = {(1,-2), (2,-1), \n",
        "                 (2,1), (1,2), \n",
        "                 (-1,2), (-2,1), \n",
        "                 (-2,-1), (-1,-2)}\n",
        "    \n",
        "     # coordinated of p1 and p2\n",
        "    p1_coord = [ord(p1[0]), int(p1[1])]\n",
        "    p2_coord = [ord(p2[0]), int(p2[1])]\n",
        "    print('p1_coord', p1_coord)\n",
        "    print('p2_coord', p2_coord)\n",
        "     \n",
        "     # empty set\n",
        "    added_cells = set()\n",
        "    counter = 0\n",
        "    \n",
        "    # implementation\n",
        "    x, y = p1_coord[0], p1_coord[1] \n",
        "    added_cells.add((x, y))\n",
        "    \n",
        "    while tuple(p2_coord) not in added_cells:\n",
        "        counter += 1\n",
        "        print(\"I'm in a cycle. Counter\", counter)\n",
        "        for item in list(added_cells):\n",
        "            x = item[0]\n",
        "            y = item[1]\n",
        "            possible_cells = []\n",
        "            for dx, dy in movements:\n",
        "                if (ord('a') <= x+dx <= ord('h')) and (y+dy in range(1,n+1)):   \n",
        "                    possible_cells += [[x + dx, y + dy]]\n",
        "                    for elem in possible_cells:\n",
        "                        added_cells.add(tuple(elem))\n",
        "    return counter \n",
        "    "
      ]
    }
  ]
}