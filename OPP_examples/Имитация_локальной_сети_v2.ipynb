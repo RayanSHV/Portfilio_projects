{
  "nbformat": 4,
  "nbformat_minor": 0,
  "metadata": {
    "colab": {
      "provenance": []
    },
    "kernelspec": {
      "name": "python3",
      "display_name": "Python 3"
    },
    "language_info": {
      "name": "python"
    }
  },
  "cells": [
    {
      "cell_type": "code",
      "execution_count": null,
      "metadata": {
        "id": "wIRTS52gg1ay"
      },
      "outputs": [],
      "source": [
        "class Data:\n",
        "    def __init__(self, data: str, ip: int):\n",
        "        self.data = data\n",
        "        self.ip = ip\n",
        "\n",
        "\n",
        "class Server:\n",
        "    ip = 0\n",
        "\n",
        "    def __new__(cls, *args, **kwargs):\n",
        "        obj = super().__new__(cls)\n",
        "        cls.ip += 1\n",
        "        obj.ip = cls.ip\n",
        "        obj.buffer = []\n",
        "        return obj\n",
        "\n",
        "    def get_ip(self):\n",
        "        return self.ip\n",
        "\n",
        "    def get_data(self):\n",
        "        __buffer = self.buffer[:]\n",
        "        self.buffer.clear()\n",
        "        return __buffer\n",
        "    \n",
        "    @staticmethod\n",
        "    def send_data(data: Data):\n",
        "        Router.buffer.add(data)\n",
        "\n",
        "\n",
        "class Router:\n",
        "    buffer = set()\n",
        "    list_servers = set()\n",
        "\n",
        "    @classmethod\n",
        "    def link(cls, server: Server):\n",
        "        if server not in cls.list_servers:\n",
        "            cls.list_servers.add(server)\n",
        "\n",
        "    @classmethod\n",
        "    def unlink(cls, server: Server):\n",
        "        if server in cls.list_servers:\n",
        "            cls.list_servers.add(server)\n",
        "\n",
        "    @classmethod\n",
        "    def send_data(cls):\n",
        "        for server in cls.list_servers:\n",
        "            server.buffer.extend([data for data in cls.buffer if data.ip == server.ip])\n",
        "        cls.buffer.clear()"
      ]
    }
  ]
}