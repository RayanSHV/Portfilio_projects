{
  "nbformat": 4,
  "nbformat_minor": 0,
  "metadata": {
    "colab": {
      "provenance": []
    },
    "kernelspec": {
      "name": "python3",
      "display_name": "Python 3"
    },
    "language_info": {
      "name": "python"
    }
  },
  "cells": [
    {
      "cell_type": "markdown",
      "source": [
        "Write a class called User that is used to calculate the amount that a user will progress through a ranking system similar to the one Codewars uses.\n",
        "\n",
        "Business Rules:\n",
        "A user starts at rank -8 and can progress all the way to 8.\n",
        "There is no 0 (zero) rank. The next rank after -1 is 1.\n",
        "Users will complete activities. These activities also have ranks.\n",
        "Each time the user completes a ranked activity the users rank progress is updated based off of the activity's rank\n",
        "The progress earned from the completed activity is relative to what the user's current rank is compared to the rank of the activity\n",
        "A user's rank progress starts off at zero, each time the progress reaches 100 the user's rank is upgraded to the next level\n",
        "Any remaining progress earned while in the previous rank will be applied towards the next rank's progress (we don't throw any progress away). The exception is if there is no other rank left to progress towards (Once you reach rank 8 there is no more progression).\n",
        "A user cannot progress beyond rank 8.\n",
        "The only acceptable range of rank values is -8,-7,-6,-5,-4,-3,-2,-1,1,2,3,4,5,6,7,8. Any other value should raise an error.\n",
        "The progress is scored like so:\n",
        "\n",
        "Completing an activity that is ranked the same as that of the user's will be worth 3 points\n",
        "Completing an activity that is ranked one ranking lower than the user's will be worth 1 point\n",
        "Any activities completed that are ranking 2 levels or more lower than the user's ranking will be ignored\n",
        "Completing an activity ranked higher than the current user's rank will accelerate the rank progression. The greater the difference between rankings the more the progression will be increased. The formula is 10 * d * d where d equals the difference in ranking between the activity and the user.\n",
        "Logic Examples:\n",
        "If a user ranked -8 completes an activity ranked -7 they will receive 10 progress\n",
        "If a user ranked -8 completes an activity ranked -6 they will receive 40 progress\n",
        "If a user ranked -8 completes an activity ranked -5 they will receive 90 progress\n",
        "If a user ranked -8 completes an activity ranked -4 they will receive 160 progress, resulting in the user being upgraded to rank -7 and having earned 60 progress towards their next rank\n",
        "If a user ranked -1 completes an activity ranked 1 they will receive 10 progress (remember, zero rank is ignored)"
      ],
      "metadata": {
        "id": "qsxtKK46htiu"
      }
    },
    {
      "cell_type": "code",
      "execution_count": null,
      "metadata": {
        "id": "M4s3SqIZhiIh"
      },
      "outputs": [],
      "source": [
        "# TODO: create the User class\n",
        "# it must support rank, progress, and the inc_progress(rank) method\n",
        "\n",
        "class User:\n",
        "    \n",
        "    def __init__(self):\n",
        "        self.rank = -8\n",
        "        self.progress = 0\n",
        "        \n",
        "        \n",
        "    def inc_progress(self, task_rank):\n",
        "        print(f'BEFORE   Rank:{self.rank}, Progress:{self.progress}, Task TODO:{task_rank}')\n",
        "        if task_rank not in [-8,-7,-6,-5,-4,-3,-2,-1,1,2,3,4,5,6,7,8]:\n",
        "            raise Error\n",
        "            \n",
        "        \n",
        "        if task_rank > self.rank:\n",
        "            if task_rank > 0 and self.rank < 0:\n",
        "                \n",
        "                self.progress += 10 * (task_rank - self.rank - 1)**2\n",
        "            else: self.progress += 10 * (task_rank - self.rank)**2\n",
        "        \n",
        "        elif task_rank == self.rank:\n",
        "            self.progress += 3\n",
        "        \n",
        "        elif task_rank < self.rank and self.rank != 8:\n",
        "            if task_rank < 0 and self.rank > 0:\n",
        "                if self.rank - task_rank <= 2:\n",
        "                    self.progress += 1\n",
        "            elif self.rank - task_rank >= 2:\n",
        "                self.progress\n",
        "            else: \n",
        "                self.progress += 1\n",
        "            \n",
        "        \n",
        "        while self.progress >= 100:\n",
        "            self.rank += 1\n",
        "            self.progress -= 100\n",
        "            if self.rank == 0:\n",
        "                self.rank += 1\n",
        "        \n",
        "        if self.rank == 8:\n",
        "            self.progress = 0\n",
        "        if self.rank > 8:\n",
        "            raise Error\n",
        "        \n",
        "        print(f'AFTER    Rank:{self.rank}, Progress:{self.progress}')"
      ]
    }
  ]
}