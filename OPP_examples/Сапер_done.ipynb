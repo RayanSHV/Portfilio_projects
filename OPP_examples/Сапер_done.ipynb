{
  "nbformat": 4,
  "nbformat_minor": 0,
  "metadata": {
    "colab": {
      "provenance": [],
      "collapsed_sections": []
    },
    "kernelspec": {
      "name": "python3",
      "display_name": "Python 3"
    },
    "language_info": {
      "name": "python"
    }
  },
  "cells": [
    {
      "cell_type": "markdown",
      "source": [
        "СОЗДАНИЕ ПОЛЯ ДЛЯ ИГРЫ \"САПЕР\""
      ],
      "metadata": {
        "id": "ZqUgZIHrTCKw"
      }
    },
    {
      "cell_type": "code",
      "source": [
        "import random\n",
        "\n",
        "class Cell:\n",
        "    def __init__(self, around_mines=0, mine=False, fl_open=False):\n",
        "        self.around_mines = around_mines\n",
        "        self.mine = mine\n",
        "        self.fl_open = fl_open\n",
        "\n",
        "\n",
        "\n",
        "class GamePole:\n",
        "    def __init__(self, N, M):\n",
        "        self.N = N\n",
        "        self.M = M\n",
        "        self.init()\n",
        "        \n",
        "    def init(self):\n",
        "        self.pole = [[Cell() for i in range(self.N)] for _ in range(self.N)]\n",
        "        for pair in self.mine_coord():\n",
        "            self.pole[pair[0]][pair[1]].mine = True\n",
        "        self.counter()\n",
        "        \n",
        "\n",
        "    def mine_coord(self):\n",
        "        pairs = []\n",
        "        while len(pairs) != self.M:\n",
        "            tmp = (random.randrange(self.N), random.randrange(self.N))\n",
        "            if tmp not in pairs:\n",
        "                pairs.append(tmp)\n",
        "        return pairs\n",
        "    \n",
        "    def counter(self):\n",
        "        for i in range(self.N):\n",
        "            for j in range(self.N):\n",
        "                if self.pole[i][j].mine:\n",
        "                    for item in [(-1,-1), (-1,0), (-1,1), (0,1), (1,1), (1,0), (1,-1), (0,-1)]:\n",
        "                        if 0 <= i+ item[0] <= self.N-1 and 0 <= j + item[1] <= self.N-1:\n",
        "                            self.pole[i+ item[0]][j + item[1]].around_mines += 1\n",
        "\n",
        "                \n",
        "\n",
        "    def show(self):\n",
        "        for row in self.pole:\n",
        "          for i in row:\n",
        "              if i.mine == True:\n",
        "                print('*', end=' ')\n",
        "              else: print(i.around_mines, end=' ')\n",
        "          print()\n",
        "\n",
        "f = GamePole(30,100)\n",
        "f.show()"
      ],
      "metadata": {
        "colab": {
          "base_uri": "https://localhost:8080/"
        },
        "id": "y3I5sIhovqnS",
        "outputId": "01769a34-7ed8-4674-b0cf-4043652fe2ef"
      },
      "execution_count": null,
      "outputs": [
        {
          "output_type": "stream",
          "name": "stdout",
          "text": [
            "1 1 0 0 0 0 0 0 0 0 0 0 0 0 0 0 0 0 1 * 1 1 2 * 2 1 0 0 0 0 \n",
            "* 1 0 0 0 0 0 0 0 0 0 0 0 0 0 0 0 0 1 1 1 1 * 3 * 1 1 1 1 0 \n",
            "2 2 0 0 0 0 0 0 0 0 0 0 0 0 0 0 0 0 0 0 0 1 1 3 2 2 1 * 1 0 \n",
            "* 2 1 2 1 1 1 2 3 2 1 0 1 1 1 0 0 0 0 0 0 0 1 2 * 1 1 1 1 0 \n",
            "3 5 * 3 * 2 2 * * * 1 0 1 * 1 0 0 0 0 1 1 1 1 * 2 1 0 0 0 0 \n",
            "* * * 3 2 * 2 2 4 3 2 0 1 1 1 0 0 0 0 1 * 1 1 1 1 1 1 1 0 0 \n",
            "2 3 2 1 1 1 2 1 2 * 1 0 0 0 0 0 1 1 1 1 1 1 0 0 0 2 * 3 1 0 \n",
            "0 0 0 0 1 1 2 * 2 1 1 0 0 0 0 0 1 * 1 1 2 2 1 0 0 2 * * 1 0 \n",
            "0 0 0 0 1 * 3 2 2 0 0 0 0 1 1 1 1 1 1 1 * * 1 0 0 1 2 2 2 1 \n",
            "1 1 0 0 1 1 3 * 3 1 0 0 0 1 * 2 1 0 0 1 2 2 1 1 1 1 0 0 1 * \n",
            "* 2 0 0 0 0 2 * * 1 1 2 2 2 2 * 2 1 1 2 3 2 1 1 * 1 0 0 1 1 \n",
            "* 3 1 1 1 1 2 2 2 1 1 * * 1 1 2 * 1 1 * * * 2 2 2 1 1 1 1 0 \n",
            "1 2 * 1 1 * 1 0 0 0 1 2 2 1 0 2 3 3 3 3 4 2 2 * 1 0 1 * 1 0 \n",
            "0 1 1 1 1 1 1 0 0 0 0 0 0 0 0 1 * * 3 * 1 0 1 1 1 0 1 1 1 0 \n",
            "1 1 0 0 0 0 0 1 1 1 0 0 0 0 0 1 2 3 * 2 1 0 0 1 1 2 2 2 1 0 \n",
            "* 3 1 0 0 0 0 1 * 1 0 0 0 0 0 0 0 1 1 1 1 1 1 1 * 4 * * 1 0 \n",
            "* * 1 0 0 0 0 1 1 1 0 0 0 0 0 0 0 0 0 0 1 * 2 2 3 * * 3 2 1 \n",
            "3 3 1 1 1 1 0 0 0 0 0 0 0 1 1 1 1 1 1 0 1 1 2 * 2 2 2 2 2 * \n",
            "* 1 0 2 * 2 0 0 0 0 0 0 0 1 * 1 1 * 1 0 0 0 1 1 1 0 0 1 * 2 \n",
            "1 1 0 2 * 2 0 0 0 0 0 0 0 1 1 2 2 2 1 0 0 0 0 0 0 0 0 1 1 1 \n",
            "0 0 0 1 1 1 0 0 0 0 0 0 0 0 0 2 * 2 0 0 1 1 1 0 0 0 0 0 0 0 \n",
            "2 2 1 0 0 0 0 0 0 0 0 0 0 0 0 2 * 2 0 0 1 * 1 0 0 0 0 0 0 0 \n",
            "* * 1 0 1 1 1 1 1 1 1 1 1 0 0 1 1 1 0 0 1 1 1 0 0 0 0 0 0 0 \n",
            "2 2 1 0 1 * 1 1 * 1 1 * 2 1 1 0 0 0 0 0 1 1 2 2 2 1 0 0 0 0 \n",
            "0 0 0 0 2 2 2 1 1 1 2 2 3 * 1 0 1 1 1 1 2 * 2 * * 2 1 0 0 0 \n",
            "0 0 0 0 1 * 1 0 0 0 1 * 2 1 1 0 1 * 1 1 * 2 2 2 3 * 1 0 0 0 \n",
            "0 0 0 0 1 1 1 1 1 2 2 2 1 0 1 1 2 1 1 1 1 2 1 1 1 1 1 0 0 0 \n",
            "0 0 0 0 0 0 0 2 * 4 * 1 0 0 1 * 1 0 0 0 0 1 * 1 0 0 0 0 0 0 \n",
            "0 0 1 1 1 1 1 3 * * 2 2 1 2 2 2 2 1 1 0 0 1 2 2 1 0 1 1 1 0 \n",
            "0 0 1 * 1 1 * 2 2 2 1 1 * 2 * 1 1 * 1 0 0 0 1 * 1 0 1 * 1 0 \n"
          ]
        }
      ]
    }
  ]
}